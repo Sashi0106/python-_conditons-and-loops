{
 "cells": [
  {
   "cell_type": "code",
   "execution_count": 13,
   "id": "b7a87eed-9ac9-4b72-b811-c29616ddecbe",
   "metadata": {},
   "outputs": [
    {
     "name": "stdin",
     "output_type": "stream",
     "text": [
      "enter the age of the person 20\n"
     ]
    },
    {
     "name": "stdout",
     "output_type": "stream",
     "text": [
      "eligible to vote\n"
     ]
    }
   ],
   "source": [
    "# code for if  condition to check, Whether the person is eligible to vote or not\n",
    "# age >18\n",
    "\n",
    "age=int(input(\"enter the age of the person\"))\n",
    "if age>=18:\n",
    "    print(\"eligible to vote\")\n",
    "if age<18:\n",
    "    print(\"not eligible\")\n"
   ]
  },
  {
   "cell_type": "code",
   "execution_count": 60,
   "id": "ff0c5214-edb8-4574-9506-48169a53cb75",
   "metadata": {},
   "outputs": [
    {
     "data": {
      "text/plain": [
       "'user=input()\\ninput : 8\\noutput: the user has printed a digit\\ninput : t\\noutput: the user has entered a character\\ninput : \\noutput: the user has entered a space\\n'"
      ]
     },
     "execution_count": 60,
     "metadata": {},
     "output_type": "execute_result"
    }
   ],
   "source": [
    "# Code for determining the character entered by the user\n",
    "'''user=input()\n",
    "input : 8\n",
    "output: the user has printed a digit\n",
    "input : t\n",
    "output: the user has entered a character\n",
    "input : \n",
    "output: the user has entered a space\n",
    "'''"
   ]
  },
  {
   "cell_type": "code",
   "execution_count": 21,
   "id": "6fe170a5-1f1e-49d9-8499-fa29e9f27827",
   "metadata": {},
   "outputs": [
    {
     "name": "stdin",
     "output_type": "stream",
     "text": [
      "press any key:  \n"
     ]
    },
    {
     "name": "stdout",
     "output_type": "stream",
     "text": [
      "  is a space\n"
     ]
    }
   ],
   "source": [
    "char=input(\"press any key:\")\n",
    "if char.isalpha():\n",
    "    print(char,\"is a character\")\n",
    "if char.isdigit():\n",
    "    print(char,\"is a digit\")\n",
    "if char.isspace():\n",
    "    print(char,\"is a space\")"
   ]
  },
  {
   "cell_type": "code",
   "execution_count": 23,
   "id": "53ef2117-eb19-49ea-a140-4af31e092310",
   "metadata": {},
   "outputs": [
    {
     "name": "stdin",
     "output_type": "stream",
     "text": [
      "enter a number 1\n"
     ]
    },
    {
     "name": "stdout",
     "output_type": "stream",
     "text": [
      "1 positive\n"
     ]
    }
   ],
   "source": [
    "#code to check the number is postive or not\n",
    "num=int(input(\"enter a number\"))\n",
    "if num>0:\n",
    "    print(num,\"positive\")\n",
    "if num<0:\n",
    "    print(num,\"negative\")\n",
    "if num==0:\n",
    "    print(num,\"is a zero\")\n"
   ]
  },
  {
   "cell_type": "code",
   "execution_count": 27,
   "id": "940d1c83-cf5d-49bb-a84d-5778d2baf2aa",
   "metadata": {},
   "outputs": [
    {
     "name": "stdin",
     "output_type": "stream",
     "text": [
      "enter the age of the person 20\n"
     ]
    },
    {
     "name": "stdout",
     "output_type": "stream",
     "text": [
      "eligible to vote\n"
     ]
    }
   ],
   "source": [
    "#if-else\n",
    "age=int(input(\"enter the age of the person\"))\n",
    "if age>=18:\n",
    "    print(\"eligible to vote\")\n",
    "else:\n",
    "    print(\"not eligible\")"
   ]
  },
  {
   "cell_type": "code",
   "execution_count": 39,
   "id": "ed16178f-0222-474d-be58-a50859b1eeb5",
   "metadata": {},
   "outputs": [
    {
     "name": "stdin",
     "output_type": "stream",
     "text": [
      " 15\n"
     ]
    },
    {
     "name": "stdout",
     "output_type": "stream",
     "text": [
      "odd\n"
     ]
    }
   ],
   "source": [
    "# Check the number is even or odd\n",
    "num=int(input())\n",
    "if num%2==0:\n",
    "    print(\"even\")\n",
    "else:\n",
    "    print(\"odd\")"
   ]
  },
  {
   "cell_type": "code",
   "execution_count": null,
   "id": "3bf08984-538d-4d1e-83ef-665397e79410",
   "metadata": {},
   "outputs": [],
   "source": []
  },
  {
   "cell_type": "code",
   "execution_count": 50,
   "id": "355284e4-c9a9-43da-bb1d-75bb52f43cac",
   "metadata": {},
   "outputs": [
    {
     "name": "stdin",
     "output_type": "stream",
     "text": [
      "enter a character from a to z A\n"
     ]
    },
    {
     "name": "stdout",
     "output_type": "stream",
     "text": [
      "a lowercase\n"
     ]
    }
   ],
   "source": [
    "#strings \n",
    "# program to enter any char , if the entered char is in lowercase then convert the char into upper and viceversa\n",
    "s=input(\"enter a character\")\n",
    "if s.islower():\n",
    "    a=s.upper()\n",
    "    print(a,'uppercase')\n",
    "if s.isupper():\n",
    "    b=s.lower()\n",
    "    print(b,'lowercase')        "
   ]
  },
  {
   "cell_type": "code",
   "execution_count": 56,
   "id": "7f080ff4-d41b-4ac7-bbb2-7d0cae975e01",
   "metadata": {},
   "outputs": [
    {
     "name": "stdin",
     "output_type": "stream",
     "text": [
      "Enter the number 156\n"
     ]
    },
    {
     "name": "stdout",
     "output_type": "stream",
     "text": [
      "Out of Range\n"
     ]
    }
   ],
   "source": [
    "# Range of numbers\n",
    "# Code for vhecking the interval of a given num(nested if-elif-else)\n",
    "num=int(input(\"Enter the number\"))\n",
    "if num>=0 and num<10:\n",
    "    print(num,\"is in 0-10 range\")\n",
    "elif num>=11 and num<=20:\n",
    "    print(num,\"is in range of 11-20\")\n",
    "elif num>=21 and num<=30:\n",
    "    print(num,\"is in range of 21-30\")\n",
    "else:\n",
    "    print(\"Out of Range\")\n"
   ]
  },
  {
   "cell_type": "code",
   "execution_count": 82,
   "id": "9e68f588-1791-45d9-a18b-25f9afd4ed18",
   "metadata": {},
   "outputs": [
    {
     "name": "stdin",
     "output_type": "stream",
     "text": [
      "enter a number 0\n"
     ]
    },
    {
     "name": "stdout",
     "output_type": "stream",
     "text": [
      "0 is a zero\n"
     ]
    }
   ],
   "source": [
    "num=int(input(\"enter a number\"))\n",
    "if num>0:\n",
    "    print(num,\"positive\")\n",
    "elif num<0:\n",
    "    print(num,\"negative\")\n",
    "else:\n",
    "    print(num,\"is a zero\")"
   ]
  },
  {
   "cell_type": "code",
   "execution_count": null,
   "id": "52da8392-ac43-4f71-b896-8afe5c861130",
   "metadata": {},
   "outputs": [],
   "source": [
    "#While loop\n",
    "# Printing the Whole numbers till n\n",
    "n=int(input(\"enter the value of n\"))\n",
    "loop=0\n",
    "while loop<=n:\n",
    "    print(loop,end='  ')\n",
    "    loop+=1"
   ]
  },
  {
   "cell_type": "code",
   "execution_count": 1,
   "id": "bdb5bf3f-bca7-402d-adf6-2bf673dc7f9c",
   "metadata": {},
   "outputs": [
    {
     "name": "stdin",
     "output_type": "stream",
     "text": [
      "enter the number of n 10\n"
     ]
    },
    {
     "name": "stdout",
     "output_type": "stream",
     "text": [
      "10 9 8 7 6 5 4 3 2 1 0 "
     ]
    }
   ],
   "source": [
    "#reverse loop\n",
    "num=int(input(\"enter the number of n\"))\n",
    "while num>=0:\n",
    "    print(num,end=' ')\n",
    "    num-=1"
   ]
  },
  {
   "cell_type": "code",
   "execution_count": null,
   "id": "17f23ca3-e48c-46ec-929b-2acf96376f7a",
   "metadata": {},
   "outputs": [],
   "source": [
    "n=int(input(\"enter the value of n\"))\n",
    "i=0\n",
    "while i<=n:\n",
    "    if i%2==0:\n",
    "        print(i,end=' ')\n",
    "        i+=1"
   ]
  },
  {
   "cell_type": "code",
   "execution_count": 5,
   "id": "4b8dbd81-0578-40e1-ab4c-fe3e2a45117d",
   "metadata": {},
   "outputs": [
    {
     "name": "stdin",
     "output_type": "stream",
     "text": [
      "enter any number 10\n"
     ]
    },
    {
     "name": "stdout",
     "output_type": "stream",
     "text": [
      "enter -1 to exit!!!\n"
     ]
    },
    {
     "name": "stdin",
     "output_type": "stream",
     "text": [
      "enter any number: -1\n"
     ]
    }
   ],
   "source": [
    "num=int(input(\"enter any number\"))\n",
    "print(\"enter -1 to exit!!!\")\n",
    "while(1):\n",
    "    num= int(input(\"enter any number:\"))\n",
    "    if num==-1:\n",
    "        break \n",
    "    if num==0:\n",
    "        z+=1\n",
    "    elif num>0:\n",
    "        p+=1\n",
    "    else:\n",
    "        n+=1\n",
    "        print(\"count of positives entered:\",p)\n",
    "        print(\"count of negatives entered:\",n)\n",
    "        print(\"count of zeros entered:\",z)"
   ]
  },
  {
   "cell_type": "code",
   "execution_count": 11,
   "id": "03cfd446-4042-4f2d-9a59-d8934d3669c4",
   "metadata": {},
   "outputs": [
    {
     "name": "stdin",
     "output_type": "stream",
     "text": [
      "enter a binary number: 1111\n"
     ]
    },
    {
     "name": "stdout",
     "output_type": "stream",
     "text": [
      "decimal equalent: 1\n",
      "decimal equalent: 3\n",
      "decimal equalent: 7\n",
      "decimal equalent: 15\n"
     ]
    }
   ],
   "source": [
    "# write a program to convert binary num to decimal by using while loop only\n",
    "'''input=1101\n",
    "output=13'''\n",
    "bnum= int(input(\"enter a binary number:\"))\n",
    "dnum=i=0\n",
    "while bnum!=0: # bnum>0\n",
    "    r=bnum%10\n",
    "    dnum=dnum+r*(2**i)\n",
    "    bnum//=10\n",
    "    i+=1\n",
    "    print(\"decimal equalent:\",dnum)"
   ]
  },
  {
   "cell_type": "code",
   "execution_count": null,
   "id": "3b9824be-df93-4c52-9be1-0dce6fba5556",
   "metadata": {},
   "outputs": [],
   "source": [
    "\""
   ]
  }
 ],
 "metadata": {
  "kernelspec": {
   "display_name": "Python 3 (ipykernel)",
   "language": "python",
   "name": "python3"
  },
  "language_info": {
   "codemirror_mode": {
    "name": "ipython",
    "version": 3
   },
   "file_extension": ".py",
   "mimetype": "text/x-python",
   "name": "python",
   "nbconvert_exporter": "python",
   "pygments_lexer": "ipython3",
   "version": "3.12.7"
  }
 },
 "nbformat": 4,
 "nbformat_minor": 5
}
